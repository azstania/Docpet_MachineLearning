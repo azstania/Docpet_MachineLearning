{
  "nbformat": 4,
  "nbformat_minor": 0,
  "metadata": {
    "colab": {
      "provenance": [],
      "gpuType": "T4"
    },
    "kernelspec": {
      "name": "python3",
      "display_name": "Python 3"
    },
    "language_info": {
      "name": "python"
    },
    "accelerator": "GPU"
  },
  "cells": [
    {
      "cell_type": "code",
      "source": [
        "import os\n",
        "import cv2\n",
        "import numpy as np\n",
        "import zipfile\n",
        "import random\n",
        "import shutil\n",
        "import tensorflow as tf\n",
        "from tensorflow.keras.preprocessing.image import ImageDataGenerator\n",
        "from tensorflow.keras.utils import img_to_array, load_img\n",
        "from shutil import copyfile\n",
        "import matplotlib.pyplot as plt"
      ],
      "metadata": {
        "id": "H5KtgWvmuJKN"
      },
      "execution_count": 1,
      "outputs": []
    },
    {
      "cell_type": "markdown",
      "source": [
        "MENYAMBUNGKAN KE DRIVE"
      ],
      "metadata": {
        "id": "2NoEyvRHuP-U"
      }
    },
    {
      "cell_type": "code",
      "source": [
        "from google.colab import drive\n",
        "drive.mount('/content/drive')"
      ],
      "metadata": {
        "colab": {
          "base_uri": "https://localhost:8080/"
        },
        "id": "3zpiazjuuQM5",
        "outputId": "4b7797b3-13cf-46b0-9e01-4f679c877fe9"
      },
      "execution_count": 2,
      "outputs": [
        {
          "output_type": "stream",
          "name": "stdout",
          "text": [
            "Mounted at /content/drive\n"
          ]
        }
      ]
    },
    {
      "cell_type": "markdown",
      "source": [
        "**PATH TEMPAT DATASET**"
      ],
      "metadata": {
        "id": "qOjvSohiuzsB"
      }
    },
    {
      "cell_type": "code",
      "source": [
        "source_path = '/content/drive/MyDrive/dataset'\n",
        "\n",
        "source_path_normals = os.path.join(source_path, 'normal')\n",
        "source_path_cataracts = os.path.join(source_path, 'cataract')\n",
        "source_path_glaucoma = os.path.join(source_path, 'glaucoma')\n",
        "source_path_konjungtivitis = os.path.join(source_path, 'konjungtivitis')\n",
        "\n",
        "# os.listdir returns a list containing all files under the given path\n",
        "print(f\"There are {len(os.listdir(source_path_normals))} images of normals.\")\n",
        "print(f\"There are {len(os.listdir(source_path_cataracts))} images of cataracts.\")\n",
        "print(f\"There are {len(os.listdir(source_path_glaucoma))} images of glaucomas.\")\n",
        "print(f\"There are {len(os.listdir(source_path_konjungtivitis))} images of konjungtivitis.\")"
      ],
      "metadata": {
        "colab": {
          "base_uri": "https://localhost:8080/"
        },
        "id": "yE-jIsL-uz66",
        "outputId": "80c9d212-5777-4393-9b33-db069fa45613"
      },
      "execution_count": 4,
      "outputs": [
        {
          "output_type": "stream",
          "name": "stdout",
          "text": [
            "There are 40 images of normals.\n",
            "There are 37 images of cataracts.\n",
            "There are 33 images of glaucomas.\n",
            "There are 12 images of konjungtivitis.\n"
          ]
        }
      ]
    },
    {
      "cell_type": "markdown",
      "source": [
        "**MEMBAGI DATASET KE TRAIN DAN VAL**"
      ],
      "metadata": {
        "id": "UYpOjNqgu2qJ"
      }
    },
    {
      "cell_type": "code",
      "source": [
        "# def split_data(source_dir, training_dir, validation_dir, split_size):\n",
        "\n",
        "#   source_path = os.listdir(source_dir)\n",
        "#   num_files = len(source_path)\n",
        "#   shuffled = random.sample(source_path, num_files)\n",
        "\n",
        "#   count_train = int(num_files*split_size)\n",
        "#   count_validation = num_files-count_train\n",
        "\n",
        "#   for i in range(count_train):\n",
        "#       source = os.path.join(source_dir, shuffled[i])\n",
        "#       if os.path.getsize(source)==0:\n",
        "#           print(f\"{shuffled[i]}, is zero length, so ignoring.\")\n",
        "#       else:\n",
        "#           target = os.path.join(training_dir, shuffled[i])\n",
        "#           copyfile(source, target)\n",
        "\n",
        "#   for i in range(count_train, num_files):\n",
        "#       source = os.path.join(source_dir, shuffled[i])\n",
        "#       if os.path.getsize(source) ==0:\n",
        "#           print(f\"{shuffled[i]}, is zero length, so ignoring.\")\n",
        "#       else:\n",
        "#           target = os.path.join(validation_dir, shuffled[i])\n",
        "#           copyfile(source, target)\n",
        "#   pass"
      ],
      "metadata": {
        "id": "G4os33jOu21T"
      },
      "execution_count": null,
      "outputs": []
    },
    {
      "cell_type": "code",
      "source": [
        "# # Test your split_data function\n",
        "\n",
        "# # Define paths\n",
        "# normal_source_dir = \"/content/drive/MyDrive/dataset/normal/\"\n",
        "# cataract_source_dir = \"/content/drive/MyDrive/dataset/cataract/\"\n",
        "\n",
        "# training_dir = \"/content/drive/MyDrive/normals-v-cataracts/training/\"\n",
        "# validation_dir = \"/content/drive/MyDrive/normals-v-cataracts/validation/\"\n",
        "\n",
        "# train_normal_dir = os.path.join(training_dir, \"normals/\")\n",
        "# val_normal_dir = os.path.join(validation_dir, \"normals/\")\n",
        "\n",
        "# train_cataract_dir = os.path.join(training_dir, \"cataracts/\")\n",
        "# val_cataract_dir = os.path.join(validation_dir, \"cataracts/\")\n",
        "\n",
        "# # Empty directories in case you run this cell multiple times\n",
        "# if len(os.listdir(train_normal_dir)) > 0:\n",
        "#   for file in os.scandir(train_normal_dir):\n",
        "#     os.remove(file.path)\n",
        "# if len(os.listdir(train_cataract_dir)) > 0:\n",
        "#   for file in os.scandir(train_cataract_dir):\n",
        "#     os.remove(file.path)\n",
        "# if len(os.listdir(val_normal_dir)) > 0:\n",
        "#   for file in os.scandir(val_normal_dir):\n",
        "#     os.remove(file.path)\n",
        "# if len(os.listdir(val_cataract_dir)) > 0:\n",
        "#   for file in os.scandir(val_cataract_dir):\n",
        "#     os.remove(file.path)\n",
        "\n",
        "# # Define proportion of images used for training\n",
        "# split_size = .9\n",
        "\n",
        "# # Run the function\n",
        "# # NOTE: Messages about zero length images should be printed out\n",
        "# split_data(normal_source_dir, train_normal_dir, val_normal_dir, split_size)\n",
        "# split_data(cataract_source_dir, train_cataract_dir, val_cataract_dir, split_size)\n",
        "\n",
        "# # Check that the number of images matches the expected output\n",
        "\n",
        "# # Your function should perform copies rather than moving images so original directories should contain unchanged images\n",
        "# print(f\"\\n\\nOriginal normal's directory has {len(os.listdir(normal_source_dir))} images\")\n",
        "# print(f\"Original cataract's directory has {len(os.listdir(cataract_source_dir))} images\\n\")\n",
        "\n",
        "# # Training and validation splits\n",
        "# print(f\"There are {len(os.listdir(train_normal_dir))} images of normals for training\")\n",
        "# print(f\"There are {len(os.listdir(train_cataract_dir))} images of cataracts for training\")\n",
        "# print(f\"There are {len(os.listdir(val_normal_dir))} images of normals for validation\")\n",
        "# print(f\"There are {len(os.listdir(val_cataract_dir))} images of cataracts for validation\")"
      ],
      "metadata": {
        "colab": {
          "base_uri": "https://localhost:8080/"
        },
        "id": "4PU_UN44wQeS",
        "outputId": "f3f1af57-738a-4d21-810e-9cdb8e663c89"
      },
      "execution_count": null,
      "outputs": [
        {
          "output_type": "stream",
          "name": "stdout",
          "text": [
            "\n",
            "\n",
            "Original normal's directory has 40 images\n",
            "Original cataract's directory has 41 images\n",
            "\n",
            "There are 36 images of normals for training\n",
            "There are 36 images of cataracts for training\n",
            "There are 4 images of normals for validation\n",
            "There are 5 images of cataracts for validation\n"
          ]
        }
      ]
    },
    {
      "cell_type": "markdown",
      "source": [
        "**MENAMPILKAN SAMPLE GAMBAR**"
      ],
      "metadata": {
        "id": "S78w2PTSu3Bh"
      }
    },
    {
      "cell_type": "code",
      "source": [
        "# #tampilkan gambar\n",
        "\n",
        "# print(\"Sample normal image:\")\n",
        "# plt.imshow(load_img(f\"{os.path.join(train_normal_dir, os.listdir(train_normal_dir)[0])}\"))\n",
        "# plt.show()\n",
        "\n",
        "# print(\"\\nSample cataract image:\")\n",
        "# plt.imshow(load_img(f\"{os.path.join(train_cataract_dir, os.listdir(train_cataract_dir)[0])}\"))\n",
        "# plt.show()"
      ],
      "metadata": {
        "id": "48Y94HCOu3Ne"
      },
      "execution_count": null,
      "outputs": []
    },
    {
      "cell_type": "markdown",
      "source": [
        "**UBAH KE GRAYSCALE**"
      ],
      "metadata": {
        "id": "jxwSKzndu3e8"
      }
    },
    {
      "cell_type": "code",
      "source": [
        "# import cv2\n",
        "# import numpy as np\n",
        "# from google.colab.patches import cv2_imshow\n",
        "\n",
        "# def grayscale_manual(img):\n",
        "#     # Mengubah citra berwarna menjadi grey scale secara manual\n",
        "#     height, width, _ = img.shape\n",
        "#     img_gray = np.zeros((height, width), dtype=np.uint8)\n",
        "\n",
        "#     for i in range(height):\n",
        "#         for j in range(width):\n",
        "#             # Ambil nilai intensitas warna pada saluran merah (R), hijau (G), dan biru (B)\n",
        "#             r, g, b = img[i, j]\n",
        "\n",
        "#             # Hitung nilai intensitas warna abu-abu\n",
        "#             gray = int(0.299 * r + 0.587 * g + 0.114 * b)\n",
        "\n",
        "#             # Set nilai intensitas warna abu-abu pada citra grey scale\n",
        "#             img_gray[i, j] = gray\n",
        "\n",
        "#     return img_gray\n",
        "\n",
        "# # Choose an example image from the training set\n",
        "# sample_image_path = os.path.join(train_normal_dir, os.listdir(train_normal_dir)[0])\n",
        "\n",
        "# # Membaca citra berwarna\n",
        "# img = cv2.imread(sample_image_path)\n",
        "\n",
        "# # Pemeriksaan apakah citra berhasil dibaca atau tidak\n",
        "# if img is None:\n",
        "#     print(\"Error: Citra tidak dapat dibaca.\")\n",
        "# else:\n",
        "#     # Mengubah citra berwarna menjadi grey scale secara manual\n",
        "#     gray_image = np.mean(img, axis=2)\n",
        "\n",
        "#     # Menampilkan citra berwarna dan citra grey scale\n",
        "#     plt.imshow(gray_image, cmap='gray')\n",
        "#     plt.title('Grayscale Image')\n",
        "#     plt.show()"
      ],
      "metadata": {
        "id": "XYgWH_pau3qc"
      },
      "execution_count": null,
      "outputs": []
    },
    {
      "cell_type": "code",
      "source": [
        "traindir = \"drive/MyDrive/dataset\"\n",
        "validdir = \"drive/MyDrive/dataset\""
      ],
      "metadata": {
        "id": "BEKoU2k6LTLF"
      },
      "execution_count": 5,
      "outputs": []
    },
    {
      "cell_type": "markdown",
      "source": [
        "**AUGMENTATION**"
      ],
      "metadata": {
        "id": "hlHsWZPpwv90"
      }
    },
    {
      "cell_type": "code",
      "source": [
        "# grader-required-cell\n",
        "\n",
        "# GRADED FUNCTION: train_val_generators\n",
        "def train_val_generators(TRAINING_DIR, VALIDATION_DIR):\n",
        "\n",
        "  # Instantiate the ImageDataGenerator class (don't forget to set the arguments to augment the images)\n",
        "  train_datagen = ImageDataGenerator(rescale=1./255,\n",
        "                                    #  rotation_range=40,\n",
        "                                     width_shift_range=0.2,\n",
        "                                     height_shift_range=0.2,\n",
        "                                    #  shear_range=0.2,\n",
        "                                    #  zoom_range=0.2,\n",
        "                                     horizontal_flip=True,\n",
        "                                     fill_mode='nearest')\n",
        "\n",
        "  # Pass in the appropriate arguments to the flow_from_directory method\n",
        "  train_generator = train_datagen.flow_from_directory(directory=TRAINING_DIR,\n",
        "                                                      batch_size=32,\n",
        "                                                      class_mode='categorical',\n",
        "                                                      target_size=(224, 224))\n",
        "\n",
        "  # Instantiate the ImageDataGenerator class (don't forget to set the rescale argument)\n",
        "  validation_datagen = ImageDataGenerator(rescale=1./255)\n",
        "\n",
        "  # Pass in the appropriate arguments to the flow_from_directory method\n",
        "  validation_generator = validation_datagen.flow_from_directory(directory=VALIDATION_DIR,\n",
        "                                                                batch_size=32,\n",
        "                                                                class_mode='categorical',\n",
        "                                                                target_size=(224, 224))\n",
        "\n",
        "  return train_generator, validation_generator"
      ],
      "metadata": {
        "id": "uOtNZ63cwwK1"
      },
      "execution_count": 6,
      "outputs": []
    },
    {
      "cell_type": "code",
      "source": [
        "# Test your generators\n",
        "train_generator, validation_generator = train_val_generators(traindir, validdir)"
      ],
      "metadata": {
        "colab": {
          "base_uri": "https://localhost:8080/"
        },
        "id": "WEQ3ZLUgw4EB",
        "outputId": "bde6a144-d009-456e-e8a8-2a00ed46017b"
      },
      "execution_count": 7,
      "outputs": [
        {
          "output_type": "stream",
          "name": "stdout",
          "text": [
            "Found 122 images belonging to 4 classes.\n",
            "Found 122 images belonging to 4 classes.\n"
          ]
        }
      ]
    },
    {
      "cell_type": "markdown",
      "source": [
        "**define the architecture of the model that will be trained.**"
      ],
      "metadata": {
        "id": "wXnSUxFMw9h_"
      }
    },
    {
      "cell_type": "code",
      "source": [
        "from tensorflow.keras.optimizers import RMSprop\n",
        "# GRADED FUNCTION: create_model\n",
        "def create_model():\n",
        "\n",
        "  model = tf.keras.models.Sequential([\n",
        "      tf.keras.layers.Conv2D(64, (3, 3), activation='relu', input_shape=(224, 224, 3)),\n",
        "      tf.keras.layers.MaxPooling2D(2, 2),\n",
        "      tf.keras.layers.Conv2D(64, (3, 3), activation='relu'),\n",
        "      tf.keras.layers.MaxPooling2D(2, 2),\n",
        "      tf.keras.layers.Conv2D(128, (3, 3), activation='relu'),\n",
        "      tf.keras.layers.MaxPooling2D(2, 2),\n",
        "      tf.keras.layers.Flatten(),\n",
        "      tf.keras.layers.Dense(512, activation='relu'),\n",
        "      tf.keras.layers.Dense(128, activation='relu'),\n",
        "      tf.keras.layers.Dense(4, activation='softmax')\n",
        "  ])\n",
        "\n",
        "\n",
        "  model.compile(optimizer=RMSprop(learning_rate=0.001),\n",
        "                loss='categorical_crossentropy',\n",
        "                metrics=['accuracy'])\n",
        "\n",
        "  return model"
      ],
      "metadata": {
        "id": "pZ8zklP2w9ts"
      },
      "execution_count": 10,
      "outputs": []
    },
    {
      "cell_type": "markdown",
      "source": [
        "**LET'S SEE**"
      ],
      "metadata": {
        "id": "si27Smj2xKHa"
      }
    },
    {
      "cell_type": "code",
      "source": [
        "# Get the untrained model\n",
        "model = create_model()\n",
        "\n",
        "# Train the model\n",
        "history = model.fit(train_generator,\n",
        "                    epochs=200,\n",
        "                    verbose=1,\n",
        "                    validation_data=validation_generator)"
      ],
      "metadata": {
        "colab": {
          "base_uri": "https://localhost:8080/"
        },
        "id": "PztbxXWjxKTq",
        "outputId": "074960d3-7c11-4231-96f2-8a686d16b45a"
      },
      "execution_count": 23,
      "outputs": [
        {
          "output_type": "stream",
          "name": "stdout",
          "text": [
            "Epoch 1/200\n",
            "4/4 [==============================] - 5s 713ms/step - loss: 6.1147 - accuracy: 0.3689 - val_loss: 1.3166 - val_accuracy: 0.3279\n",
            "Epoch 2/200\n",
            "4/4 [==============================] - 2s 530ms/step - loss: 1.4671 - accuracy: 0.2705 - val_loss: 1.4273 - val_accuracy: 0.3279\n",
            "Epoch 3/200\n",
            "4/4 [==============================] - 2s 524ms/step - loss: 1.3746 - accuracy: 0.2623 - val_loss: 1.3385 - val_accuracy: 0.3279\n",
            "Epoch 4/200\n",
            "4/4 [==============================] - 2s 520ms/step - loss: 1.3251 - accuracy: 0.3525 - val_loss: 1.3231 - val_accuracy: 0.3279\n",
            "Epoch 5/200\n",
            "4/4 [==============================] - 2s 527ms/step - loss: 1.3547 - accuracy: 0.3443 - val_loss: 1.3147 - val_accuracy: 0.3934\n",
            "Epoch 6/200\n",
            "4/4 [==============================] - 2s 679ms/step - loss: 1.3330 - accuracy: 0.3361 - val_loss: 1.3195 - val_accuracy: 0.3279\n",
            "Epoch 7/200\n",
            "4/4 [==============================] - 3s 811ms/step - loss: 1.3091 - accuracy: 0.3361 - val_loss: 1.2871 - val_accuracy: 0.4262\n",
            "Epoch 8/200\n",
            "4/4 [==============================] - 2s 542ms/step - loss: 1.3374 - accuracy: 0.3115 - val_loss: 1.3196 - val_accuracy: 0.3279\n",
            "Epoch 9/200\n",
            "4/4 [==============================] - 2s 523ms/step - loss: 1.3233 - accuracy: 0.3115 - val_loss: 1.3080 - val_accuracy: 0.3115\n",
            "Epoch 10/200\n",
            "4/4 [==============================] - 2s 529ms/step - loss: 1.3069 - accuracy: 0.3443 - val_loss: 1.2865 - val_accuracy: 0.3279\n",
            "Epoch 11/200\n",
            "4/4 [==============================] - 2s 606ms/step - loss: 1.2835 - accuracy: 0.3934 - val_loss: 1.2510 - val_accuracy: 0.4016\n",
            "Epoch 12/200\n",
            "4/4 [==============================] - 3s 795ms/step - loss: 1.3194 - accuracy: 0.3852 - val_loss: 1.5160 - val_accuracy: 0.3033\n",
            "Epoch 13/200\n",
            "4/4 [==============================] - 2s 569ms/step - loss: 1.3607 - accuracy: 0.3033 - val_loss: 1.2886 - val_accuracy: 0.3279\n",
            "Epoch 14/200\n",
            "4/4 [==============================] - 2s 522ms/step - loss: 1.2967 - accuracy: 0.3361 - val_loss: 1.2946 - val_accuracy: 0.3033\n",
            "Epoch 15/200\n",
            "4/4 [==============================] - 2s 523ms/step - loss: 1.3240 - accuracy: 0.3852 - val_loss: 1.2396 - val_accuracy: 0.4344\n",
            "Epoch 16/200\n",
            "4/4 [==============================] - 2s 532ms/step - loss: 1.2845 - accuracy: 0.3689 - val_loss: 1.2959 - val_accuracy: 0.4590\n",
            "Epoch 17/200\n",
            "4/4 [==============================] - 3s 788ms/step - loss: 1.3142 - accuracy: 0.3689 - val_loss: 1.2537 - val_accuracy: 0.3443\n",
            "Epoch 18/200\n",
            "4/4 [==============================] - 2s 510ms/step - loss: 1.3251 - accuracy: 0.3525 - val_loss: 1.2255 - val_accuracy: 0.4262\n",
            "Epoch 19/200\n",
            "4/4 [==============================] - 2s 527ms/step - loss: 1.2766 - accuracy: 0.3852 - val_loss: 1.1724 - val_accuracy: 0.4836\n",
            "Epoch 20/200\n",
            "4/4 [==============================] - 2s 566ms/step - loss: 1.2384 - accuracy: 0.4016 - val_loss: 1.2547 - val_accuracy: 0.3607\n",
            "Epoch 21/200\n",
            "4/4 [==============================] - 2s 554ms/step - loss: 1.1914 - accuracy: 0.4262 - val_loss: 1.1029 - val_accuracy: 0.5410\n",
            "Epoch 22/200\n",
            "4/4 [==============================] - 3s 785ms/step - loss: 1.7078 - accuracy: 0.3770 - val_loss: 1.2106 - val_accuracy: 0.4918\n",
            "Epoch 23/200\n",
            "4/4 [==============================] - 2s 536ms/step - loss: 1.2887 - accuracy: 0.3770 - val_loss: 1.1912 - val_accuracy: 0.4016\n",
            "Epoch 24/200\n",
            "4/4 [==============================] - 2s 541ms/step - loss: 1.1978 - accuracy: 0.4836 - val_loss: 1.1308 - val_accuracy: 0.4672\n",
            "Epoch 25/200\n",
            "4/4 [==============================] - 2s 520ms/step - loss: 1.1935 - accuracy: 0.4426 - val_loss: 1.0841 - val_accuracy: 0.5328\n",
            "Epoch 26/200\n",
            "4/4 [==============================] - 2s 521ms/step - loss: 1.1659 - accuracy: 0.4754 - val_loss: 1.0557 - val_accuracy: 0.6230\n",
            "Epoch 27/200\n",
            "4/4 [==============================] - 3s 895ms/step - loss: 1.1507 - accuracy: 0.4918 - val_loss: 1.1727 - val_accuracy: 0.4508\n",
            "Epoch 28/200\n",
            "4/4 [==============================] - 3s 666ms/step - loss: 1.1689 - accuracy: 0.4344 - val_loss: 1.0504 - val_accuracy: 0.5082\n",
            "Epoch 29/200\n",
            "4/4 [==============================] - 2s 527ms/step - loss: 1.0703 - accuracy: 0.5246 - val_loss: 1.0713 - val_accuracy: 0.5574\n",
            "Epoch 30/200\n",
            "4/4 [==============================] - 2s 551ms/step - loss: 1.2674 - accuracy: 0.5246 - val_loss: 1.0863 - val_accuracy: 0.5246\n",
            "Epoch 31/200\n",
            "4/4 [==============================] - 2s 523ms/step - loss: 1.1281 - accuracy: 0.5574 - val_loss: 1.0739 - val_accuracy: 0.5246\n",
            "Epoch 32/200\n",
            "4/4 [==============================] - 2s 519ms/step - loss: 1.1963 - accuracy: 0.4836 - val_loss: 1.0073 - val_accuracy: 0.5656\n",
            "Epoch 33/200\n",
            "4/4 [==============================] - 3s 877ms/step - loss: 1.0799 - accuracy: 0.5328 - val_loss: 1.2012 - val_accuracy: 0.4918\n",
            "Epoch 34/200\n",
            "4/4 [==============================] - 3s 664ms/step - loss: 1.2233 - accuracy: 0.4508 - val_loss: 1.0169 - val_accuracy: 0.5328\n",
            "Epoch 35/200\n",
            "4/4 [==============================] - 2s 529ms/step - loss: 1.0549 - accuracy: 0.5984 - val_loss: 1.0005 - val_accuracy: 0.5328\n",
            "Epoch 36/200\n",
            "4/4 [==============================] - 2s 537ms/step - loss: 1.0384 - accuracy: 0.5492 - val_loss: 0.9942 - val_accuracy: 0.5492\n",
            "Epoch 37/200\n",
            "4/4 [==============================] - 2s 602ms/step - loss: 1.0967 - accuracy: 0.5738 - val_loss: 1.0277 - val_accuracy: 0.5574\n",
            "Epoch 38/200\n",
            "4/4 [==============================] - 3s 779ms/step - loss: 1.0439 - accuracy: 0.5984 - val_loss: 1.0766 - val_accuracy: 0.5328\n",
            "Epoch 39/200\n",
            "4/4 [==============================] - 2s 576ms/step - loss: 1.0401 - accuracy: 0.5656 - val_loss: 0.9757 - val_accuracy: 0.6475\n",
            "Epoch 40/200\n",
            "4/4 [==============================] - 2s 518ms/step - loss: 1.0121 - accuracy: 0.5492 - val_loss: 0.9977 - val_accuracy: 0.5738\n",
            "Epoch 41/200\n",
            "4/4 [==============================] - 2s 515ms/step - loss: 1.0398 - accuracy: 0.5574 - val_loss: 0.9549 - val_accuracy: 0.5984\n",
            "Epoch 42/200\n",
            "4/4 [==============================] - 2s 512ms/step - loss: 0.9856 - accuracy: 0.5984 - val_loss: 0.9174 - val_accuracy: 0.6475\n",
            "Epoch 43/200\n",
            "4/4 [==============================] - 2s 518ms/step - loss: 0.9869 - accuracy: 0.5328 - val_loss: 0.8851 - val_accuracy: 0.6803\n",
            "Epoch 44/200\n",
            "4/4 [==============================] - 3s 799ms/step - loss: 1.0759 - accuracy: 0.5902 - val_loss: 1.3696 - val_accuracy: 0.4590\n",
            "Epoch 45/200\n",
            "4/4 [==============================] - 3s 759ms/step - loss: 1.1306 - accuracy: 0.5328 - val_loss: 1.0999 - val_accuracy: 0.5000\n",
            "Epoch 46/200\n",
            "4/4 [==============================] - 2s 518ms/step - loss: 1.0631 - accuracy: 0.5410 - val_loss: 0.9494 - val_accuracy: 0.5328\n",
            "Epoch 47/200\n",
            "4/4 [==============================] - 2s 514ms/step - loss: 0.9681 - accuracy: 0.5410 - val_loss: 0.8995 - val_accuracy: 0.5738\n",
            "Epoch 48/200\n",
            "4/4 [==============================] - 2s 524ms/step - loss: 0.9819 - accuracy: 0.5984 - val_loss: 0.9288 - val_accuracy: 0.6066\n",
            "Epoch 49/200\n",
            "4/4 [==============================] - 2s 660ms/step - loss: 1.0218 - accuracy: 0.5984 - val_loss: 0.9214 - val_accuracy: 0.5820\n",
            "Epoch 50/200\n",
            "4/4 [==============================] - 3s 789ms/step - loss: 0.9269 - accuracy: 0.6230 - val_loss: 0.8119 - val_accuracy: 0.6557\n",
            "Epoch 51/200\n",
            "4/4 [==============================] - 2s 551ms/step - loss: 0.9773 - accuracy: 0.6230 - val_loss: 0.9186 - val_accuracy: 0.5820\n",
            "Epoch 52/200\n",
            "4/4 [==============================] - 2s 505ms/step - loss: 0.9723 - accuracy: 0.5902 - val_loss: 0.9936 - val_accuracy: 0.5656\n",
            "Epoch 53/200\n",
            "4/4 [==============================] - 2s 527ms/step - loss: 0.9004 - accuracy: 0.5820 - val_loss: 0.9363 - val_accuracy: 0.5902\n",
            "Epoch 54/200\n",
            "4/4 [==============================] - 2s 514ms/step - loss: 0.9123 - accuracy: 0.6066 - val_loss: 0.8728 - val_accuracy: 0.6066\n",
            "Epoch 55/200\n",
            "4/4 [==============================] - 2s 608ms/step - loss: 0.8621 - accuracy: 0.6475 - val_loss: 0.8883 - val_accuracy: 0.6393\n",
            "Epoch 56/200\n",
            "4/4 [==============================] - 3s 823ms/step - loss: 1.1563 - accuracy: 0.5574 - val_loss: 1.0925 - val_accuracy: 0.5000\n",
            "Epoch 57/200\n",
            "4/4 [==============================] - 2s 557ms/step - loss: 1.0400 - accuracy: 0.5246 - val_loss: 0.8986 - val_accuracy: 0.6311\n",
            "Epoch 58/200\n",
            "4/4 [==============================] - 2s 519ms/step - loss: 0.9343 - accuracy: 0.5410 - val_loss: 0.7617 - val_accuracy: 0.6967\n",
            "Epoch 59/200\n",
            "4/4 [==============================] - 2s 530ms/step - loss: 0.8497 - accuracy: 0.6066 - val_loss: 0.6997 - val_accuracy: 0.6721\n",
            "Epoch 60/200\n",
            "4/4 [==============================] - 2s 582ms/step - loss: 0.9141 - accuracy: 0.6803 - val_loss: 0.7624 - val_accuracy: 0.6967\n",
            "Epoch 61/200\n",
            "4/4 [==============================] - 3s 832ms/step - loss: 0.9168 - accuracy: 0.5656 - val_loss: 0.7920 - val_accuracy: 0.7049\n",
            "Epoch 62/200\n",
            "4/4 [==============================] - 2s 612ms/step - loss: 0.8372 - accuracy: 0.6639 - val_loss: 0.7749 - val_accuracy: 0.6885\n",
            "Epoch 63/200\n",
            "4/4 [==============================] - 2s 541ms/step - loss: 0.8382 - accuracy: 0.6557 - val_loss: 0.8381 - val_accuracy: 0.6885\n",
            "Epoch 64/200\n",
            "4/4 [==============================] - 2s 524ms/step - loss: 1.0011 - accuracy: 0.5902 - val_loss: 0.7504 - val_accuracy: 0.6803\n",
            "Epoch 65/200\n",
            "4/4 [==============================] - 2s 522ms/step - loss: 0.9353 - accuracy: 0.5656 - val_loss: 0.8660 - val_accuracy: 0.6148\n",
            "Epoch 66/200\n",
            "4/4 [==============================] - 2s 527ms/step - loss: 0.8446 - accuracy: 0.6066 - val_loss: 0.8016 - val_accuracy: 0.6475\n",
            "Epoch 67/200\n",
            "4/4 [==============================] - 3s 859ms/step - loss: 0.7049 - accuracy: 0.7049 - val_loss: 0.8483 - val_accuracy: 0.6230\n",
            "Epoch 68/200\n",
            "4/4 [==============================] - 2s 510ms/step - loss: 0.8305 - accuracy: 0.6967 - val_loss: 0.7351 - val_accuracy: 0.7131\n",
            "Epoch 69/200\n",
            "4/4 [==============================] - 2s 543ms/step - loss: 0.8414 - accuracy: 0.6475 - val_loss: 0.6629 - val_accuracy: 0.7295\n",
            "Epoch 70/200\n",
            "4/4 [==============================] - 2s 526ms/step - loss: 0.8381 - accuracy: 0.6393 - val_loss: 0.7662 - val_accuracy: 0.6721\n",
            "Epoch 71/200\n",
            "4/4 [==============================] - 2s 546ms/step - loss: 0.7532 - accuracy: 0.6885 - val_loss: 0.8619 - val_accuracy: 0.6885\n",
            "Epoch 72/200\n",
            "4/4 [==============================] - 3s 827ms/step - loss: 0.8537 - accuracy: 0.6066 - val_loss: 0.7118 - val_accuracy: 0.6721\n",
            "Epoch 73/200\n",
            "4/4 [==============================] - 2s 523ms/step - loss: 0.8415 - accuracy: 0.6393 - val_loss: 0.7778 - val_accuracy: 0.6393\n",
            "Epoch 74/200\n",
            "4/4 [==============================] - 2s 505ms/step - loss: 0.7064 - accuracy: 0.6885 - val_loss: 0.6483 - val_accuracy: 0.7049\n",
            "Epoch 75/200\n",
            "4/4 [==============================] - 2s 556ms/step - loss: 0.7278 - accuracy: 0.6557 - val_loss: 0.6512 - val_accuracy: 0.7213\n",
            "Epoch 76/200\n",
            "4/4 [==============================] - 2s 550ms/step - loss: 0.7751 - accuracy: 0.6639 - val_loss: 0.7160 - val_accuracy: 0.7049\n",
            "Epoch 77/200\n",
            "4/4 [==============================] - 3s 785ms/step - loss: 0.7578 - accuracy: 0.7131 - val_loss: 0.7772 - val_accuracy: 0.6721\n",
            "Epoch 78/200\n",
            "4/4 [==============================] - 3s 730ms/step - loss: 0.6989 - accuracy: 0.6967 - val_loss: 0.6162 - val_accuracy: 0.7131\n",
            "Epoch 79/200\n",
            "4/4 [==============================] - 2s 514ms/step - loss: 0.7735 - accuracy: 0.6639 - val_loss: 0.5795 - val_accuracy: 0.7459\n",
            "Epoch 80/200\n",
            "4/4 [==============================] - 2s 524ms/step - loss: 0.7961 - accuracy: 0.6557 - val_loss: 0.6417 - val_accuracy: 0.7213\n",
            "Epoch 81/200\n",
            "4/4 [==============================] - 2s 514ms/step - loss: 0.7771 - accuracy: 0.6721 - val_loss: 0.7285 - val_accuracy: 0.6967\n",
            "Epoch 82/200\n",
            "4/4 [==============================] - 2s 508ms/step - loss: 0.7217 - accuracy: 0.7213 - val_loss: 0.5695 - val_accuracy: 0.7705\n",
            "Epoch 83/200\n",
            "4/4 [==============================] - 3s 856ms/step - loss: 0.8150 - accuracy: 0.6885 - val_loss: 0.9452 - val_accuracy: 0.6557\n",
            "Epoch 84/200\n",
            "4/4 [==============================] - 2s 521ms/step - loss: 0.6802 - accuracy: 0.7623 - val_loss: 0.5565 - val_accuracy: 0.7623\n",
            "Epoch 85/200\n",
            "4/4 [==============================] - 2s 513ms/step - loss: 0.6918 - accuracy: 0.6967 - val_loss: 0.8782 - val_accuracy: 0.6066\n",
            "Epoch 86/200\n",
            "4/4 [==============================] - 2s 552ms/step - loss: 0.7103 - accuracy: 0.6967 - val_loss: 0.6516 - val_accuracy: 0.7213\n",
            "Epoch 87/200\n",
            "4/4 [==============================] - 2s 521ms/step - loss: 0.8799 - accuracy: 0.6230 - val_loss: 0.4923 - val_accuracy: 0.8197\n",
            "Epoch 88/200\n",
            "4/4 [==============================] - 3s 781ms/step - loss: 0.6450 - accuracy: 0.7705 - val_loss: 0.7319 - val_accuracy: 0.6885\n",
            "Epoch 89/200\n",
            "4/4 [==============================] - 2s 604ms/step - loss: 0.5657 - accuracy: 0.7705 - val_loss: 0.7807 - val_accuracy: 0.6311\n",
            "Epoch 90/200\n",
            "4/4 [==============================] - 2s 522ms/step - loss: 0.7161 - accuracy: 0.7049 - val_loss: 0.6532 - val_accuracy: 0.6967\n",
            "Epoch 91/200\n",
            "4/4 [==============================] - 2s 524ms/step - loss: 0.5932 - accuracy: 0.7131 - val_loss: 0.7042 - val_accuracy: 0.6803\n",
            "Epoch 92/200\n",
            "4/4 [==============================] - 2s 517ms/step - loss: 0.6018 - accuracy: 0.7131 - val_loss: 0.5159 - val_accuracy: 0.7787\n",
            "Epoch 93/200\n",
            "4/4 [==============================] - 3s 845ms/step - loss: 0.5951 - accuracy: 0.7295 - val_loss: 0.5894 - val_accuracy: 0.7541\n",
            "Epoch 94/200\n",
            "4/4 [==============================] - 3s 642ms/step - loss: 0.6577 - accuracy: 0.7377 - val_loss: 0.4812 - val_accuracy: 0.7787\n",
            "Epoch 95/200\n",
            "4/4 [==============================] - 3s 749ms/step - loss: 0.4795 - accuracy: 0.7705 - val_loss: 0.6964 - val_accuracy: 0.7295\n",
            "Epoch 96/200\n",
            "4/4 [==============================] - 3s 883ms/step - loss: 0.7012 - accuracy: 0.7459 - val_loss: 0.5294 - val_accuracy: 0.8443\n",
            "Epoch 97/200\n",
            "4/4 [==============================] - 3s 686ms/step - loss: 0.6019 - accuracy: 0.7623 - val_loss: 0.5244 - val_accuracy: 0.7787\n",
            "Epoch 98/200\n",
            "4/4 [==============================] - 2s 602ms/step - loss: 0.6455 - accuracy: 0.7459 - val_loss: 0.8111 - val_accuracy: 0.6557\n",
            "Epoch 99/200\n",
            "4/4 [==============================] - 2s 536ms/step - loss: 0.7487 - accuracy: 0.6393 - val_loss: 0.6894 - val_accuracy: 0.7295\n",
            "Epoch 100/200\n",
            "4/4 [==============================] - 2s 520ms/step - loss: 0.5938 - accuracy: 0.7705 - val_loss: 0.3887 - val_accuracy: 0.8525\n",
            "Epoch 101/200\n",
            "4/4 [==============================] - 2s 531ms/step - loss: 0.5330 - accuracy: 0.7623 - val_loss: 0.5731 - val_accuracy: 0.7705\n",
            "Epoch 102/200\n",
            "4/4 [==============================] - 3s 722ms/step - loss: 0.6588 - accuracy: 0.7541 - val_loss: 0.4657 - val_accuracy: 0.8279\n",
            "Epoch 103/200\n",
            "4/4 [==============================] - 3s 788ms/step - loss: 0.5463 - accuracy: 0.7705 - val_loss: 1.0859 - val_accuracy: 0.5656\n",
            "Epoch 104/200\n",
            "4/4 [==============================] - 2s 526ms/step - loss: 0.5954 - accuracy: 0.7705 - val_loss: 0.4245 - val_accuracy: 0.7869\n",
            "Epoch 105/200\n",
            "4/4 [==============================] - 2s 503ms/step - loss: 0.4859 - accuracy: 0.8197 - val_loss: 0.3451 - val_accuracy: 0.8607\n",
            "Epoch 106/200\n",
            "4/4 [==============================] - 2s 548ms/step - loss: 0.6029 - accuracy: 0.7459 - val_loss: 0.4083 - val_accuracy: 0.8525\n",
            "Epoch 107/200\n",
            "4/4 [==============================] - 2s 528ms/step - loss: 0.5154 - accuracy: 0.7705 - val_loss: 0.3833 - val_accuracy: 0.8525\n",
            "Epoch 108/200\n",
            "4/4 [==============================] - 3s 831ms/step - loss: 0.4397 - accuracy: 0.8033 - val_loss: 0.2752 - val_accuracy: 0.9016\n",
            "Epoch 109/200\n",
            "4/4 [==============================] - 3s 717ms/step - loss: 0.6131 - accuracy: 0.7623 - val_loss: 0.3668 - val_accuracy: 0.8607\n",
            "Epoch 110/200\n",
            "4/4 [==============================] - 2s 524ms/step - loss: 0.5278 - accuracy: 0.7787 - val_loss: 1.1187 - val_accuracy: 0.5984\n",
            "Epoch 111/200\n",
            "4/4 [==============================] - 2s 509ms/step - loss: 0.7239 - accuracy: 0.7623 - val_loss: 0.4066 - val_accuracy: 0.8361\n",
            "Epoch 112/200\n",
            "4/4 [==============================] - 2s 517ms/step - loss: 0.5169 - accuracy: 0.7705 - val_loss: 0.6852 - val_accuracy: 0.6885\n",
            "Epoch 113/200\n",
            "4/4 [==============================] - 2s 683ms/step - loss: 0.6851 - accuracy: 0.7131 - val_loss: 0.3807 - val_accuracy: 0.8361\n",
            "Epoch 114/200\n",
            "4/4 [==============================] - 3s 792ms/step - loss: 0.6251 - accuracy: 0.7213 - val_loss: 0.6135 - val_accuracy: 0.6967\n",
            "Epoch 115/200\n",
            "4/4 [==============================] - 2s 536ms/step - loss: 0.5437 - accuracy: 0.8115 - val_loss: 0.2938 - val_accuracy: 0.9016\n",
            "Epoch 116/200\n",
            "4/4 [==============================] - 2s 513ms/step - loss: 0.4055 - accuracy: 0.8279 - val_loss: 0.3597 - val_accuracy: 0.8279\n",
            "Epoch 117/200\n",
            "4/4 [==============================] - 2s 558ms/step - loss: 0.3515 - accuracy: 0.8279 - val_loss: 0.3880 - val_accuracy: 0.8443\n",
            "Epoch 118/200\n",
            "4/4 [==============================] - 2s 517ms/step - loss: 0.8231 - accuracy: 0.6967 - val_loss: 0.3829 - val_accuracy: 0.8689\n",
            "Epoch 119/200\n",
            "4/4 [==============================] - 3s 761ms/step - loss: 0.3972 - accuracy: 0.8443 - val_loss: 0.2896 - val_accuracy: 0.8689\n",
            "Epoch 120/200\n",
            "4/4 [==============================] - 2s 542ms/step - loss: 0.5257 - accuracy: 0.7623 - val_loss: 0.4534 - val_accuracy: 0.7869\n",
            "Epoch 121/200\n",
            "4/4 [==============================] - 2s 549ms/step - loss: 0.4409 - accuracy: 0.8115 - val_loss: 0.3694 - val_accuracy: 0.8443\n",
            "Epoch 122/200\n",
            "4/4 [==============================] - 2s 540ms/step - loss: 0.3953 - accuracy: 0.8361 - val_loss: 0.3000 - val_accuracy: 0.8852\n",
            "Epoch 123/200\n",
            "4/4 [==============================] - 2s 508ms/step - loss: 0.5770 - accuracy: 0.7951 - val_loss: 0.6900 - val_accuracy: 0.7049\n",
            "Epoch 124/200\n",
            "4/4 [==============================] - 3s 885ms/step - loss: 0.6011 - accuracy: 0.7541 - val_loss: 0.4306 - val_accuracy: 0.8197\n",
            "Epoch 125/200\n",
            "4/4 [==============================] - 2s 520ms/step - loss: 0.3668 - accuracy: 0.8607 - val_loss: 0.3328 - val_accuracy: 0.8770\n",
            "Epoch 126/200\n",
            "4/4 [==============================] - 2s 535ms/step - loss: 0.3493 - accuracy: 0.8607 - val_loss: 0.2867 - val_accuracy: 0.8770\n",
            "Epoch 127/200\n",
            "4/4 [==============================] - 2s 508ms/step - loss: 0.5811 - accuracy: 0.7951 - val_loss: 0.4545 - val_accuracy: 0.8443\n",
            "Epoch 128/200\n",
            "4/4 [==============================] - 2s 516ms/step - loss: 0.5049 - accuracy: 0.7869 - val_loss: 0.3399 - val_accuracy: 0.8607\n",
            "Epoch 129/200\n",
            "4/4 [==============================] - 3s 760ms/step - loss: 0.4177 - accuracy: 0.8361 - val_loss: 0.1930 - val_accuracy: 0.9262\n",
            "Epoch 130/200\n",
            "4/4 [==============================] - 2s 571ms/step - loss: 0.3277 - accuracy: 0.8770 - val_loss: 0.3218 - val_accuracy: 0.8607\n",
            "Epoch 131/200\n",
            "4/4 [==============================] - 2s 550ms/step - loss: 0.6712 - accuracy: 0.7623 - val_loss: 0.2786 - val_accuracy: 0.8934\n",
            "Epoch 132/200\n",
            "4/4 [==============================] - 2s 517ms/step - loss: 0.3927 - accuracy: 0.8279 - val_loss: 0.2450 - val_accuracy: 0.9016\n",
            "Epoch 133/200\n",
            "4/4 [==============================] - 2s 532ms/step - loss: 0.3842 - accuracy: 0.8525 - val_loss: 0.5739 - val_accuracy: 0.7541\n",
            "Epoch 134/200\n",
            "4/4 [==============================] - 3s 901ms/step - loss: 0.6041 - accuracy: 0.7295 - val_loss: 0.2292 - val_accuracy: 0.9262\n",
            "Epoch 135/200\n",
            "4/4 [==============================] - 2s 607ms/step - loss: 0.3465 - accuracy: 0.8689 - val_loss: 0.2474 - val_accuracy: 0.9180\n",
            "Epoch 136/200\n",
            "4/4 [==============================] - 2s 519ms/step - loss: 0.3405 - accuracy: 0.8607 - val_loss: 0.3434 - val_accuracy: 0.8934\n",
            "Epoch 137/200\n",
            "4/4 [==============================] - 2s 517ms/step - loss: 0.2813 - accuracy: 0.8852 - val_loss: 0.2911 - val_accuracy: 0.8852\n",
            "Epoch 138/200\n",
            "4/4 [==============================] - 2s 528ms/step - loss: 0.5491 - accuracy: 0.7295 - val_loss: 0.2548 - val_accuracy: 0.9098\n",
            "Epoch 139/200\n",
            "4/4 [==============================] - 2s 660ms/step - loss: 0.3166 - accuracy: 0.8852 - val_loss: 0.3466 - val_accuracy: 0.8279\n",
            "Epoch 140/200\n",
            "4/4 [==============================] - 3s 839ms/step - loss: 0.3239 - accuracy: 0.8852 - val_loss: 0.1583 - val_accuracy: 0.9508\n",
            "Epoch 141/200\n",
            "4/4 [==============================] - 2s 510ms/step - loss: 0.3530 - accuracy: 0.8852 - val_loss: 0.4006 - val_accuracy: 0.8689\n",
            "Epoch 142/200\n",
            "4/4 [==============================] - 2s 519ms/step - loss: 0.5836 - accuracy: 0.7705 - val_loss: 0.2152 - val_accuracy: 0.9098\n",
            "Epoch 143/200\n",
            "4/4 [==============================] - 2s 542ms/step - loss: 0.3138 - accuracy: 0.9098 - val_loss: 0.2707 - val_accuracy: 0.8770\n",
            "Epoch 144/200\n",
            "4/4 [==============================] - 2s 536ms/step - loss: 0.3677 - accuracy: 0.8443 - val_loss: 0.1578 - val_accuracy: 0.9344\n",
            "Epoch 145/200\n",
            "4/4 [==============================] - 3s 839ms/step - loss: 0.3168 - accuracy: 0.8770 - val_loss: 0.5038 - val_accuracy: 0.7951\n",
            "Epoch 146/200\n",
            "4/4 [==============================] - 2s 516ms/step - loss: 0.3728 - accuracy: 0.8607 - val_loss: 0.1780 - val_accuracy: 0.9590\n",
            "Epoch 147/200\n",
            "4/4 [==============================] - 2s 586ms/step - loss: 0.2281 - accuracy: 0.9180 - val_loss: 0.1393 - val_accuracy: 0.9590\n",
            "Epoch 148/200\n",
            "4/4 [==============================] - 2s 532ms/step - loss: 0.4936 - accuracy: 0.8361 - val_loss: 0.3974 - val_accuracy: 0.8689\n",
            "Epoch 149/200\n",
            "4/4 [==============================] - 2s 615ms/step - loss: 0.3324 - accuracy: 0.8607 - val_loss: 0.1455 - val_accuracy: 0.9426\n",
            "Epoch 150/200\n",
            "4/4 [==============================] - 2s 696ms/step - loss: 0.3768 - accuracy: 0.8443 - val_loss: 0.3037 - val_accuracy: 0.8525\n",
            "Epoch 151/200\n",
            "4/4 [==============================] - 3s 804ms/step - loss: 0.3124 - accuracy: 0.8770 - val_loss: 0.1222 - val_accuracy: 0.9672\n",
            "Epoch 152/200\n",
            "4/4 [==============================] - 2s 513ms/step - loss: 0.3120 - accuracy: 0.8607 - val_loss: 0.3418 - val_accuracy: 0.8852\n",
            "Epoch 153/200\n",
            "4/4 [==============================] - 2s 526ms/step - loss: 0.3222 - accuracy: 0.8689 - val_loss: 0.1745 - val_accuracy: 0.9262\n",
            "Epoch 154/200\n",
            "4/4 [==============================] - 2s 541ms/step - loss: 0.3894 - accuracy: 0.8361 - val_loss: 0.5034 - val_accuracy: 0.7787\n",
            "Epoch 155/200\n",
            "4/4 [==============================] - 2s 563ms/step - loss: 0.4133 - accuracy: 0.8279 - val_loss: 0.1291 - val_accuracy: 0.9590\n",
            "Epoch 156/200\n",
            "4/4 [==============================] - 3s 919ms/step - loss: 0.2445 - accuracy: 0.9262 - val_loss: 0.1426 - val_accuracy: 0.9262\n",
            "Epoch 157/200\n",
            "4/4 [==============================] - 2s 572ms/step - loss: 0.4814 - accuracy: 0.8279 - val_loss: 0.1528 - val_accuracy: 0.9426\n",
            "Epoch 158/200\n",
            "4/4 [==============================] - 2s 516ms/step - loss: 0.2060 - accuracy: 0.9344 - val_loss: 0.1738 - val_accuracy: 0.9262\n",
            "Epoch 159/200\n",
            "4/4 [==============================] - 2s 520ms/step - loss: 0.1613 - accuracy: 0.9590 - val_loss: 0.1189 - val_accuracy: 0.9426\n",
            "Epoch 160/200\n",
            "4/4 [==============================] - 2s 554ms/step - loss: 0.3796 - accuracy: 0.8443 - val_loss: 0.1808 - val_accuracy: 0.9344\n",
            "Epoch 161/200\n",
            "4/4 [==============================] - 2s 628ms/step - loss: 0.2921 - accuracy: 0.9180 - val_loss: 0.4145 - val_accuracy: 0.8197\n",
            "Epoch 162/200\n",
            "4/4 [==============================] - 3s 884ms/step - loss: 0.3822 - accuracy: 0.8525 - val_loss: 0.3386 - val_accuracy: 0.8607\n",
            "Epoch 163/200\n",
            "4/4 [==============================] - 2s 561ms/step - loss: 0.1853 - accuracy: 0.9262 - val_loss: 0.1289 - val_accuracy: 0.9590\n",
            "Epoch 164/200\n",
            "4/4 [==============================] - 2s 555ms/step - loss: 0.3884 - accuracy: 0.8525 - val_loss: 0.1404 - val_accuracy: 0.9508\n",
            "Epoch 165/200\n",
            "4/4 [==============================] - 2s 518ms/step - loss: 0.1962 - accuracy: 0.9098 - val_loss: 0.1305 - val_accuracy: 0.9672\n",
            "Epoch 166/200\n",
            "4/4 [==============================] - 2s 528ms/step - loss: 0.1872 - accuracy: 0.9262 - val_loss: 0.8406 - val_accuracy: 0.7623\n",
            "Epoch 167/200\n",
            "4/4 [==============================] - 3s 879ms/step - loss: 0.2117 - accuracy: 0.9180 - val_loss: 0.0967 - val_accuracy: 0.9508\n",
            "Epoch 168/200\n",
            "4/4 [==============================] - 2s 524ms/step - loss: 0.1106 - accuracy: 0.9672 - val_loss: 0.2579 - val_accuracy: 0.8934\n",
            "Epoch 169/200\n",
            "4/4 [==============================] - 2s 520ms/step - loss: 0.3707 - accuracy: 0.8607 - val_loss: 0.1767 - val_accuracy: 0.9344\n",
            "Epoch 170/200\n",
            "4/4 [==============================] - 2s 633ms/step - loss: 0.3145 - accuracy: 0.8607 - val_loss: 0.7586 - val_accuracy: 0.7869\n",
            "Epoch 171/200\n",
            "4/4 [==============================] - 2s 607ms/step - loss: 0.3199 - accuracy: 0.8770 - val_loss: 0.2872 - val_accuracy: 0.9180\n",
            "Epoch 172/200\n",
            "4/4 [==============================] - 3s 857ms/step - loss: 0.3103 - accuracy: 0.8852 - val_loss: 0.1738 - val_accuracy: 0.9344\n",
            "Epoch 173/200\n",
            "4/4 [==============================] - 2s 538ms/step - loss: 0.2028 - accuracy: 0.9426 - val_loss: 0.0965 - val_accuracy: 0.9836\n",
            "Epoch 174/200\n",
            "4/4 [==============================] - 2s 521ms/step - loss: 0.1318 - accuracy: 0.9672 - val_loss: 0.0775 - val_accuracy: 0.9754\n",
            "Epoch 175/200\n",
            "4/4 [==============================] - 2s 523ms/step - loss: 0.5181 - accuracy: 0.8525 - val_loss: 0.5052 - val_accuracy: 0.7705\n",
            "Epoch 176/200\n",
            "4/4 [==============================] - 2s 516ms/step - loss: 0.2571 - accuracy: 0.8770 - val_loss: 0.1064 - val_accuracy: 0.9590\n",
            "Epoch 177/200\n",
            "4/4 [==============================] - 2s 631ms/step - loss: 0.2435 - accuracy: 0.8934 - val_loss: 0.1153 - val_accuracy: 0.9508\n",
            "Epoch 178/200\n",
            "4/4 [==============================] - 3s 849ms/step - loss: 0.1412 - accuracy: 0.9508 - val_loss: 0.0713 - val_accuracy: 0.9754\n",
            "Epoch 179/200\n",
            "4/4 [==============================] - 2s 555ms/step - loss: 0.2269 - accuracy: 0.9344 - val_loss: 0.1723 - val_accuracy: 0.9262\n",
            "Epoch 180/200\n",
            "4/4 [==============================] - 2s 517ms/step - loss: 0.2021 - accuracy: 0.9262 - val_loss: 0.2415 - val_accuracy: 0.9098\n",
            "Epoch 181/200\n",
            "4/4 [==============================] - 2s 506ms/step - loss: 0.3503 - accuracy: 0.8361 - val_loss: 0.2262 - val_accuracy: 0.9180\n",
            "Epoch 182/200\n",
            "4/4 [==============================] - 3s 720ms/step - loss: 0.1560 - accuracy: 0.9344 - val_loss: 0.0814 - val_accuracy: 0.9672\n",
            "Epoch 183/200\n",
            "4/4 [==============================] - 3s 780ms/step - loss: 0.1344 - accuracy: 0.9508 - val_loss: 0.1723 - val_accuracy: 0.9180\n",
            "Epoch 184/200\n",
            "4/4 [==============================] - 2s 512ms/step - loss: 0.2882 - accuracy: 0.9016 - val_loss: 0.2668 - val_accuracy: 0.9180\n",
            "Epoch 185/200\n",
            "4/4 [==============================] - 2s 513ms/step - loss: 0.6472 - accuracy: 0.8361 - val_loss: 0.4452 - val_accuracy: 0.8607\n",
            "Epoch 186/200\n",
            "4/4 [==============================] - 2s 519ms/step - loss: 0.3710 - accuracy: 0.8689 - val_loss: 0.0986 - val_accuracy: 0.9672\n",
            "Epoch 187/200\n",
            "4/4 [==============================] - 2s 516ms/step - loss: 0.2049 - accuracy: 0.9426 - val_loss: 0.1059 - val_accuracy: 0.9590\n",
            "Epoch 188/200\n",
            "4/4 [==============================] - 3s 812ms/step - loss: 0.2171 - accuracy: 0.9016 - val_loss: 0.0561 - val_accuracy: 0.9836\n",
            "Epoch 189/200\n",
            "4/4 [==============================] - 2s 544ms/step - loss: 0.1042 - accuracy: 0.9672 - val_loss: 0.0522 - val_accuracy: 0.9836\n",
            "Epoch 190/200\n",
            "4/4 [==============================] - 2s 523ms/step - loss: 0.2525 - accuracy: 0.9180 - val_loss: 0.2192 - val_accuracy: 0.9344\n",
            "Epoch 191/200\n",
            "4/4 [==============================] - 2s 526ms/step - loss: 0.2274 - accuracy: 0.9262 - val_loss: 0.1011 - val_accuracy: 0.9590\n",
            "Epoch 192/200\n",
            "4/4 [==============================] - 2s 518ms/step - loss: 0.1925 - accuracy: 0.9344 - val_loss: 0.1279 - val_accuracy: 0.9508\n",
            "Epoch 193/200\n",
            "4/4 [==============================] - 3s 784ms/step - loss: 0.1957 - accuracy: 0.9262 - val_loss: 0.0569 - val_accuracy: 0.9836\n",
            "Epoch 194/200\n",
            "4/4 [==============================] - 2s 531ms/step - loss: 0.1338 - accuracy: 0.9508 - val_loss: 0.2105 - val_accuracy: 0.9016\n",
            "Epoch 195/200\n",
            "4/4 [==============================] - 2s 524ms/step - loss: 0.3200 - accuracy: 0.9016 - val_loss: 0.1223 - val_accuracy: 0.9426\n",
            "Epoch 196/200\n",
            "4/4 [==============================] - 2s 507ms/step - loss: 0.3241 - accuracy: 0.8852 - val_loss: 0.2564 - val_accuracy: 0.9180\n",
            "Epoch 197/200\n",
            "4/4 [==============================] - 2s 504ms/step - loss: 0.1007 - accuracy: 0.9754 - val_loss: 0.0638 - val_accuracy: 0.9754\n",
            "Epoch 198/200\n",
            "4/4 [==============================] - 3s 840ms/step - loss: 0.1520 - accuracy: 0.9672 - val_loss: 0.1634 - val_accuracy: 0.9344\n",
            "Epoch 199/200\n",
            "4/4 [==============================] - 3s 727ms/step - loss: 0.0883 - accuracy: 0.9508 - val_loss: 0.1735 - val_accuracy: 0.9262\n",
            "Epoch 200/200\n",
            "4/4 [==============================] - 2s 555ms/step - loss: 0.3300 - accuracy: 0.8852 - val_loss: 0.1162 - val_accuracy: 0.9590\n"
          ]
        }
      ]
    },
    {
      "cell_type": "markdown",
      "source": [
        "**HITUNG AKURASI RATA-RATA**"
      ],
      "metadata": {
        "id": "q1sZViu2xUgo"
      }
    },
    {
      "cell_type": "code",
      "source": [
        "# Tampilkan nilai akurasi rata-rata\n",
        "average_accuracy = sum(history.history['accuracy']) / len(history.history['accuracy'])\n",
        "print(f\"Average Accuracy: {average_accuracy}\")"
      ],
      "metadata": {
        "colab": {
          "base_uri": "https://localhost:8080/"
        },
        "id": "p8Cpb_LBxUtB",
        "outputId": "13a96962-0d9e-4f0c-80aa-e3e5f3c80698"
      },
      "execution_count": 24,
      "outputs": [
        {
          "output_type": "stream",
          "name": "stdout",
          "text": [
            "Average Accuracy: 0.7092622943222523\n"
          ]
        }
      ]
    },
    {
      "cell_type": "markdown",
      "source": [
        "**LET'S SEE THE GRAPH**"
      ],
      "metadata": {
        "id": "eOoExvABxcx3"
      }
    },
    {
      "cell_type": "code",
      "source": [
        "import matplotlib.pyplot as plt\n",
        "\n",
        "# Retrieve a list of list results on training and test data\n",
        "# sets for each training epoch\n",
        "acc = history.history['accuracy']\n",
        "val_acc = history.history['val_accuracy']\n",
        "loss = history.history['loss']\n",
        "val_loss = history.history['val_loss']\n",
        "\n",
        "epochs = range(len(acc))  # Get number of epochs\n",
        "\n",
        "# Plot training and validation accuracy per epoch\n",
        "plt.plot(epochs, acc, 'r', label=\"Training Accuracy\")    # Memberi warna merah pada garis training accuracy\n",
        "plt.plot(epochs, val_acc, 'b', label=\"Validation Accuracy\")  # Memberi warna biru pada garis validation accuracy\n",
        "plt.title('Training and validation accuracy')\n",
        "plt.legend()  # Menampilkan legenda\n",
        "plt.show()\n",
        "\n",
        "# Plot training and validation loss per epoch\n",
        "plt.plot(epochs, loss, 'r', label=\"Training Loss\")    # Memberi warna merah pada garis training loss\n",
        "plt.plot(epochs, val_loss, 'b', label=\"Validation Loss\")  # Memberi warna biru pada garis validation loss\n",
        "plt.legend()  # Menampilkan legenda\n",
        "plt.title('Training and validation loss')\n",
        "plt.show()"
      ],
      "metadata": {
        "colab": {
          "base_uri": "https://localhost:8080/",
          "height": 887
        },
        "id": "bl9muRPCxc9o",
        "outputId": "0b119bcc-b9d1-4d5b-a92e-38c0c534c55e"
      },
      "execution_count": 16,
      "outputs": [
        {
          "output_type": "display_data",
          "data": {
            "text/plain": [
              "<Figure size 640x480 with 1 Axes>"
            ],
            "image/png": "[encoded data removed]"
          },
          "metadata": {}
        },
        {
          "output_type": "display_data",
          "data": {
            "text/plain": [
              "<Figure size 640x480 with 1 Axes>"
            ],
            "image/png": "[encoded data removed]"
          },
          "metadata": {}
        }
      ]
    },
    {
      "cell_type": "markdown",
      "source": [
        "H5 File"
      ],
      "metadata": {
        "id": "MsDFGsX4D2iT"
      }
    },
    {
      "cell_type": "code",
      "source": [
        "if __name__ == '__main__':\n",
        "    # DO NOT CHANGE THIS CODE\n",
        "    model = solution_C3()\n",
        "    model.save(\"model_C3.h5\")"
      ],
      "metadata": {
        "id": "GrWeKRpWD1gJ"
      },
      "execution_count": null,
      "outputs": []
    },
    {
      "cell_type": "code",
      "source": [
        "Test (still ungoing)"
      ],
      "metadata": {
        "id": "2C7BaTeYPqpd"
      },
      "execution_count": null,
      "outputs": []
    },
    {
      "cell_type": "code",
      "source": [
        "# import tensorflow as tf\n",
        "# from tensorflow.keras.preprocessing import image\n",
        "# from tensorflow.keras.applications.vgg16 import preprocess_input, decode_predictions\n",
        "# import numpy as np\n",
        "\n",
        "# # Load and preprocess the image\n",
        "# img_path = 'kucing.png'  # Replace with the path to your image\n",
        "# img = image.load_img(img_path, target_size=(224, 224))\n",
        "# img_array = image.img_to_array(img)\n",
        "# img_array = np.expand_dims(img_array, axis=0)\n",
        "# img_array = preprocess_input(img_array)\n",
        "\n",
        "# # Make predictions\n",
        "# predictions = model.predict(img_array)\n"
      ],
      "metadata": {
        "id": "m6rGMPaSSo5a"
      },
      "execution_count": null,
      "outputs": []
    }
  ]
}